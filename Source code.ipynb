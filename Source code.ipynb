{
 "cells": [
  {
   "cell_type": "markdown",
   "id": "satisfied-leonard",
   "metadata": {},
   "source": [
    "# Part One: Mergin the files"
   ]
  },
  {
   "cell_type": "code",
   "execution_count": 1,
   "id": "auburn-establishment",
   "metadata": {},
   "outputs": [],
   "source": [
    "import pandas as pd"
   ]
  },
  {
   "cell_type": "code",
   "execution_count": 2,
   "id": "disciplinary-freedom",
   "metadata": {},
   "outputs": [],
   "source": [
    "tour_cap_nat = \"tour_cap_nat.tsv\"\n",
    "tin00083 = \"tin00083.tsv\""
   ]
  },
  {
   "cell_type": "code",
   "execution_count": 3,
   "id": "pending-wilson",
   "metadata": {},
   "outputs": [],
   "source": [
    "tcn = pd.read_table(tour_cap_nat)\n",
    "tin = pd.read_table(tin00083)"
   ]
  },
  {
   "cell_type": "code",
   "execution_count": 4,
   "id": "obvious-smile",
   "metadata": {},
   "outputs": [
    {
     "name": "stdout",
     "output_type": "stream",
     "text": [
      "['accommod,unit,nace_r2,geo\\\\time', '2020 ', '2019 ', '2018 ', '2017 ', '2016 ']\n",
      "['indic_is,ind_type,unit,geo\\\\time', '2012 ', '2013 ', '2014 ', '2015 ']\n"
     ]
    }
   ],
   "source": [
    "print(tcn.columns.tolist()[:6])\n",
    "print(tin.columns.tolist()[:5])"
   ]
  },
  {
   "cell_type": "markdown",
   "id": "involved-viking",
   "metadata": {
    "tags": []
   },
   "source": [
    "## General requrements \n",
    "### TOUR_CAP_NAT\n",
    "#### Columns to use\n",
    "* “accommod,unit,nace_r2,geo\\time” and “2016 “\n",
    "\n",
    "#### Rows to use: The first column is a composite of “accommod”, “unit”, “nace_r2” and “geo\\time” separated by comma (“,”). You should only use rows where:\n",
    "* “accommod” is “BEDPL”\n",
    "* “unit” is “NR”\n",
    "* “nace_r2” is “I551”\n",
    "\n",
    "### TIN00083\n",
    "#### Columns to use\n",
    "* “indic_is,ind_type,unit,geo\\time” and “2016”\n",
    "\n",
    "#### Rows to use\n",
    "The first column is a composite of “indic_is”, “ind_type”, “unit” and “geo\\time” separated by comma (“,”). You should only use rows where:\n",
    "* “ind_type” is “IND_TOTAL”"
   ]
  },
  {
   "cell_type": "code",
   "execution_count": 5,
   "id": "external-clearance",
   "metadata": {
    "tags": []
   },
   "outputs": [],
   "source": [
    "tcn_column = \"accommod,unit,nace_r2,geo\\\\time\"\n",
    "tin_column = \"indic_is,ind_type,unit,geo\\\\time\"\n",
    "\n",
    "tcn_year = \"2016 \"\n",
    "tin_year = \"2016 \"\n",
    "\n",
    "tcn_column_condition = \"BEDPL,NR,I551,\"\n",
    "tin_column_condition = \",IND_TOTAL,\"\n",
    "\n",
    "tcn_selected = tcn.loc[tcn[tcn_column].str.startswith(tcn_column_condition, na=False)]\n",
    "tin_selected = tin.loc[tin[tin_column].str.contains(tin_column_condition, na=False)]"
   ]
  },
  {
   "cell_type": "code",
   "execution_count": 6,
   "id": "moving-confusion",
   "metadata": {
    "tags": []
   },
   "outputs": [],
   "source": [
    "# Utility functions\n",
    "\n",
    "def is_valid_data(value: str) -> bool:\n",
    "    \"\"\"\n",
    "    · Values suffixed with “ b” should be used (after removing the suffix).\n",
    "    · Values suffixed with “ u” are unreliable and should be considered as missing data.\n",
    "    · Values suffixed with “ bu” should be considered as missing data.\n",
    "    \"\"\"\n",
    "    \n",
    "    missing_value_indicators = [\":\", \"u\",]\n",
    "    return not any((indicator in value for indicator in missing_value_indicators))\n",
    "\n",
    "assert is_valid_data(\"601945\")\n",
    "assert is_valid_data(\"58 b\")\n",
    "assert not is_valid_data(\"113157 u\")\n",
    "assert not is_valid_data(\": u\")\n",
    "assert not is_valid_data(\":\")\n",
    "assert not is_valid_data(\": c\")\n",
    "assert not is_valid_data(\"8966 bu\")\n",
    "\n",
    "\n",
    "def clean_data(data: str) -> int:\n",
    "    \"\"\"\n",
    "    · The value “: ” signifies missing data.\n",
    "    \"\"\"\n",
    "    \n",
    "    if is_valid_data(data):\n",
    "        if data.endswith(\"b\"):\n",
    "            data = data[:-1]\n",
    "        return int(data.strip())\n",
    "    else:\n",
    "        return \": \"\n",
    "\n",
    "assert clean_data(\"601945\") == 601945\n",
    "assert clean_data(\"58 b\") == 58\n",
    "assert clean_data(\"113157 u\") == \": \"\n",
    "assert clean_data(\": u\") == \": \"\n",
    "assert clean_data(\":\") == \": \"\n",
    "assert clean_data(\": c\") == \": \"\n",
    "assert clean_data(\"8966 bu\") == \": \"\n",
    "\n",
    "\n",
    "def get_country_code(header: str) -> str:\n",
    "    return header.split(\",\")[-1]\n",
    "\n",
    "assert get_country_code(\"BEDPL,NR,I551,AT\") == \"AT\"\n",
    "assert get_country_code(\"BEDPL,NR,I551,CH\") == \"CH\"\n",
    "assert get_country_code(\"I_IUMD,IND_TOTAL,PC_IND,CH\") == \"CH\"\n",
    "assert get_country_code(\"I_IUMD,IND_TOTAL,PC_IND,EU27_2007\") == \"EU27_2007\"\n",
    "\n",
    "\n",
    "def country_code_is_valid(county_code: str) -> bool:\n",
    "    \"\"\"\n",
    "    · Country codes “EA”, \"EU27_2007\", \"EU27_2020\", \"EU28\" should be treated the same as\n",
    "    missing data and should be ignored.\n",
    "    \"\"\"\n",
    "    \n",
    "    invalid_county_codes = [\"EA\", \"EU27_2007\", \"EU27_2020\", \"EU28\"]\n",
    "    return not county_code in invalid_county_codes\n",
    "\n",
    "assert country_code_is_valid(\"AT\")\n",
    "assert country_code_is_valid(\"CH\")\n",
    "assert not country_code_is_valid(\"EA\")\n",
    "assert not country_code_is_valid(\"EU27_2007\")\n",
    "assert not country_code_is_valid(\"EU27_2020\")\n",
    "assert not country_code_is_valid(\"EU28\")"
   ]
  },
  {
   "cell_type": "markdown",
   "id": "extensive-paper",
   "metadata": {
    "tags": []
   },
   "source": [
    "### Country Code"
   ]
  },
  {
   "cell_type": "code",
   "execution_count": 7,
   "id": "stretch-civilian",
   "metadata": {
    "tags": []
   },
   "outputs": [],
   "source": [
    "def get_all_countries(tcn: pd.DataFrame,tin: pd.DataFrame) -> list:\n",
    "    \"\"\"The “Country Code” column should be distinct and should not contain missing data.\"\"\"\n",
    "    all_countries = []\n",
    "    all_countries.extend(tcn[tcn_column].tolist())\n",
    "    all_countries.extend(tin[tin_column].tolist())\n",
    "    all_countries_clean = [get_country_code(x) for x in all_countries if country_code_is_valid(get_country_code(x))]\n",
    "    return sorted(list(set(all_countries_clean)))\n",
    "\n",
    "\n",
    "all_countries = get_all_countries(tcn_selected, tin_selected)\n",
    "for country_code in all_countries:\n",
    "    assert all_countries.count(country_code) == 1"
   ]
  },
  {
   "cell_type": "markdown",
   "id": "coated-ceiling",
   "metadata": {
    "tags": []
   },
   "source": [
    "### Percentage of individuals online"
   ]
  },
  {
   "cell_type": "code",
   "execution_count": 8,
   "id": "embedded-premiere",
   "metadata": {
    "tags": []
   },
   "outputs": [],
   "source": [
    "def get_perc_for_country_code(tin: pd.DataFrame, country_code: str) -> int:\n",
    "    \n",
    "    try:\n",
    "        _df = tin.loc[tin[tin_column].str.endswith(country_code, na=False)][tin_year].values[0]\n",
    "    except IndexError:\n",
    "        return clean_data(\":\")\n",
    "    return clean_data(_df)\n",
    "\n",
    "assert get_perc_for_country_code(tin_selected, \"AT\") == 65\n",
    "assert get_perc_for_country_code(tin_selected, \"CZ\") == \": \"\n",
    "assert get_perc_for_country_code(tin_selected, \"AL\") == \": \"\n",
    "assert get_perc_for_country_code(tin_selected, \"FR\") == 61\n",
    "assert get_perc_for_country_code(tin_selected, \"FFF\") == \": \""
   ]
  },
  {
   "cell_type": "markdown",
   "id": "super-carroll",
   "metadata": {
    "tags": []
   },
   "source": [
    "### Number of Bed-places"
   ]
  },
  {
   "cell_type": "code",
   "execution_count": 9,
   "id": "annual-medicaid",
   "metadata": {
    "tags": []
   },
   "outputs": [],
   "source": [
    "def get_number_of_beds(tcn: pd.DataFrame, country_code: str) -> int:\n",
    "    try:\n",
    "        _df = tcn.loc[tcn[tcn_column].str.endswith(country_code, na=False)][tcn_year].values[0]\n",
    "    except IndexError:\n",
    "        return clean_data(\":\")\n",
    "    return clean_data(_df)\n",
    "    \n",
    "assert get_number_of_beds(tcn_selected, \"AT\") == 601945\n",
    "assert get_number_of_beds(tcn_selected, \"SI\") == 45716\n",
    "assert get_number_of_beds(tcn_selected, \"XK\") == \": \"\n",
    "assert get_number_of_beds(tcn_selected, \"RS\") == \": \"\n",
    "assert get_number_of_beds(tcn_selected, \"eee\") == \": \""
   ]
  },
  {
   "cell_type": "markdown",
   "id": "accomplished-pencil",
   "metadata": {},
   "source": [
    "# To CSV"
   ]
  },
  {
   "cell_type": "markdown",
   "id": "african-partition",
   "metadata": {},
   "source": [
    "### The merged CSV file, with columns “Country Code”, “Percentage of individuals online” and “Number of Bed-places”."
   ]
  },
  {
   "cell_type": "code",
   "execution_count": 10,
   "id": "rural-direction",
   "metadata": {},
   "outputs": [],
   "source": [
    "the_merged_csv_file = \"The merged CSV file.csv\"\n",
    "\n",
    "def to_csv(tcn: pd.DataFrame, tin: pd.DataFrame, file_name: str=the_merged_csv_file) -> None:\n",
    "    _to_csv = {\n",
    "        \"Country Code\": [],\n",
    "        \"Percentage of individuals online\": [],\n",
    "        \"Number of Bed-places\": []\n",
    "    }\n",
    "    all_countries = get_all_countries(tcn, tin)\n",
    "    \n",
    "    for country_code in all_countries:\n",
    "        _to_csv[\"Country Code\"].append(country_code)\n",
    "        _to_csv[\"Percentage of individuals online\"].append(get_perc_for_country_code(tin, country_code))\n",
    "        _to_csv[\"Number of Bed-places\"].append(get_number_of_beds(tcn, country_code))\n",
    "    \n",
    "    pd.DataFrame(_to_csv).to_csv(file_name, index=False)\n",
    "\n",
    "to_csv(tcn_selected, tin_selected)"
   ]
  },
  {
   "cell_type": "markdown",
   "id": "relevant-economics",
   "metadata": {},
   "source": [
    "# Part Two: Visualizations"
   ]
  },
  {
   "cell_type": "code",
   "execution_count": 11,
   "id": "opening-promotion",
   "metadata": {},
   "outputs": [],
   "source": [
    "import matplotlib.pyplot as plt\n",
    "%matplotlib inline"
   ]
  },
  {
   "cell_type": "code",
   "execution_count": 12,
   "id": "level-toner",
   "metadata": {},
   "outputs": [],
   "source": [
    "csv = pd.read_csv(the_merged_csv_file, index_col=0)"
   ]
  },
  {
   "cell_type": "code",
   "execution_count": 13,
   "id": "dedicated-relay",
   "metadata": {},
   "outputs": [],
   "source": [
    "cc = \"Country Code\"\n",
    "pio = \"Percentage of individuals online\"\n",
    "nbp = \"Number of Bed-places\"\n",
    "\n",
    "csv[pio] = csv[pio].replace(\": \", 0).astype(int)\n",
    "csv[nbp] = csv[nbp].replace(\": \", 0).astype(int)"
   ]
  },
  {
   "cell_type": "markdown",
   "id": "resistant-employment",
   "metadata": {},
   "source": [
    "## Sorted by by highest \"Percentage of individuals online\""
   ]
  },
  {
   "cell_type": "code",
   "execution_count": 14,
   "id": "occupational-sphere",
   "metadata": {
    "tags": []
   },
   "outputs": [
    {
     "data": {
      "image/png": "[encoded data removed]",
      "text/plain": [
       "<Figure size 1440x720 with 2 Axes>"
      ]
     },
     "metadata": {
      "needs_background": "light"
     },
     "output_type": "display_data"
    }
   ],
   "source": [
    "pio_csv = csv.sort_values(pio, ascending=False)\n",
    "\n",
    "_ = pio_csv.plot(figsize=(20,10), kind=\"bar\", secondary_y=nbp ,rot=0)\n",
    "plt.show()"
   ]
  },
  {
   "cell_type": "markdown",
   "id": "remarkable-vanilla",
   "metadata": {
    "tags": []
   },
   "source": [
    "## Sorted by by highest \"Number of Bed-places\""
   ]
  },
  {
   "cell_type": "code",
   "execution_count": 15,
   "id": "burning-patent",
   "metadata": {},
   "outputs": [
    {
     "data": {
      "image/png": "[encoded data removed]",
      "text/plain": [
       "<Figure size 1440x720 with 2 Axes>"
      ]
     },
     "metadata": {
      "needs_background": "light"
     },
     "output_type": "display_data"
    }
   ],
   "source": [
    "nbp_csv = csv.sort_values(nbp, ascending=False)\n",
    "\n",
    "_ = nbp_csv.plot(figsize=(20,10), kind=\"bar\", secondary_y=nbp, rot=0)\n",
    "plt.show()"
   ]
  },
  {
   "cell_type": "code",
   "execution_count": null,
   "id": "amino-graphic",
   "metadata": {},
   "outputs": [],
   "source": []
  },
  {
   "cell_type": "code",
   "execution_count": null,
   "id": "optional-honduras",
   "metadata": {},
   "outputs": [],
   "source": []
  }
 ],
 "metadata": {
  "kernelspec": {
   "display_name": "Python 3",
   "language": "python",
   "name": "python3"
  },
  "language_info": {
   "codemirror_mode": {
    "name": "ipython",
    "version": 3
   },
   "file_extension": ".py",
   "mimetype": "text/x-python",
   "name": "python",
   "nbconvert_exporter": "python",
   "pygments_lexer": "ipython3",
   "version": "3.8.8"
  }
 },
 "nbformat": 4,
 "nbformat_minor": 5
}
